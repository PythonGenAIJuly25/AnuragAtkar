{
 "cells": [
  {
   "cell_type": "markdown",
   "metadata": {},
   "source": [
    "# Module 3: Data Structures Assignments\n",
    "## Lesson 3.1: Lists\n",
    "### Assignment 1: Creating and Accessing Lists\n",
    "\n",
    "Create a list of the first 20 positive integers. Print the list.\n",
    "\n",
    "### Assignment 2: Accessing List Elements\n",
    "\n",
    "Print the first, middle, and last elements of the list created in Assignment 1.\n",
    "\n",
    "### Assignment 3: List Slicing\n",
    "\n",
    "Print the first five elements, the last five elements, and the elements from index 5 to 15 of the list created in Assignment 1.\n",
    "\n",
    "### Assignment 4: List Comprehensions\n",
    "\n",
    "Create a new list containing the squares of the first 10 positive integers using a list comprehension. Print the new list.\n",
    "\n",
    "### Assignment 5: Filtering Lists\n",
    "\n",
    "Create a new list containing only the even numbers from the list created in Assignment 1 using a list comprehension. Print the new list.\n",
    "\n",
    "### Assignment 6: List Methods\n",
    "\n",
    "Create a list of random numbers and sort it in ascending and descending order. Remove the duplicates from the list and print the modified list.\n",
    "\n",
    "### Assignment 7: Nested Lists\n",
    "\n",
    "Create a nested list representing a 3x3 matrix and print the matrix. Access and print the element at the second row and third column.\n",
    "\n",
    "### Assignment 8: List of Dictionaries\n",
    "\n",
    "Create a list of dictionaries where each dictionary represents a student with keys 'name' and 'score'. Sort the list of dictionaries by the 'score' in descending order and print the sorted list.\n",
    "\n",
    "### Assignment 9: Matrix Transposition\n",
    "\n",
    "Write a function that takes a 3x3 matrix (nested list) as input and returns its transpose. Print the original and transposed matrices.\n",
    "\n",
    "### Assignment 10: Flattening a Nested List\n",
    "\n",
    "Write a function that takes a nested list and flattens it into a single list. Print the original and flattened lists.\n",
    "\n",
    "### Assignment 11: List Manipulation\n",
    "\n",
    "Create a list of the first 10 positive integers. Remove the elements at indices 2, 4, and 6, and insert the element '99' at index 5. Print the modified list.\n",
    "\n",
    "### Assignment 12: List Zipping\n",
    "\n",
    "Create two lists of the same length. Use the `zip` function to combine these lists into a list of tuples and print the result.\n",
    "\n",
    "### Assignment 13: List Reversal\n",
    "\n",
    "Write a function that takes a list and returns a new list with the elements in reverse order. Print the original and reversed lists.\n",
    "\n",
    "### Assignment 14: List Rotation\n",
    "\n",
    "Write a function that rotates a list by n positions. Print the original and rotated lists.\n",
    "\n",
    "### Assignment 15: List Intersection\n",
    "\n",
    "Write a function that takes two lists and returns a new list containing only the elements that are present in both lists. Print the intersected list."
   ]
  },
  {
   "cell_type": "code",
   "execution_count": null,
   "metadata": {},
   "outputs": [
    {
     "name": "stdout",
     "output_type": "stream",
     "text": [
      "[1, 2, 3, 4, 5, 6, 7, 8, 9, 10, 11, 12, 13, 14, 15, 16, 17, 18, 19, 20]\n"
     ]
    }
   ],
   "source": [
    "#Assignment 1: Creating and Accessing Lists\n",
    "#Create a list of the first 20 positive integers. Print the list.\n",
    "num=list(range(1,21))\n",
    "print(num)"
   ]
  },
  {
   "cell_type": "code",
   "execution_count": null,
   "id": "43ef9776",
   "metadata": {},
   "outputs": [
    {
     "name": "stdout",
     "output_type": "stream",
     "text": [
      "First:1,Middle:6,Last:10\n"
     ]
    }
   ],
   "source": [
    "#Print the first, middle, and last elements of the list created in Assignment 1.\n",
    "numbers=list(range(1,11))\n",
    "first=numbers[0]\n",
    "middle=numbers[len(numbers)//2]\n",
    "last=numbers[-1]\n",
    "print(f\"First:{first},Middle:{middle},Last:{last}\")"
   ]
  },
  {
   "cell_type": "code",
   "execution_count": null,
   "id": "cf1668d0",
   "metadata": {},
   "outputs": [
    {
     "name": "stdout",
     "output_type": "stream",
     "text": [
      "[1, 2, 3, 4, 5]\n",
      "[16, 17, 18, 19, 20]\n",
      "[6, 7, 8, 9, 10, 11, 12, 13, 14, 15, 16]\n"
     ]
    }
   ],
   "source": [
    "#Print the first five elements, the last five elements, and the elements from index 5 to 15 of the list created in Assignment 1.\n",
    "num=list(range(1,21))\n",
    "print(num[0:5])\n",
    "print(num[-5:])\n",
    "print(num[5:16])"
   ]
  },
  {
   "cell_type": "code",
   "execution_count": null,
   "id": "51213fc3",
   "metadata": {},
   "outputs": [
    {
     "name": "stdout",
     "output_type": "stream",
     "text": [
      "[1, 4, 9, 16, 25, 36, 49, 64, 81, 100]\n"
     ]
    }
   ],
   "source": [
    "#Create a new list containing the squares of the first 10 positive integers using a list comprehension. Print the new list.\n",
    "square=[i**2 for i in range(1,11)]\n",
    "print(square)"
   ]
  },
  {
   "cell_type": "code",
   "execution_count": null,
   "id": "cefba98b",
   "metadata": {},
   "outputs": [
    {
     "name": "stdout",
     "output_type": "stream",
     "text": [
      "Even numbers: [2, 4, 6, 8, 10]\n"
     ]
    }
   ],
   "source": [
    "#Create a new list containing only the even numbers from the list created in Assignment 1 using a list comprehension. Print the new list.\n",
    "numbers = list(range(1, 11))\n",
    "even_numbers = [num for num in numbers if num % 2 == 0]\n",
    "print(\"Even numbers:\", even_numbers)"
   ]
  },
  {
   "cell_type": "code",
   "execution_count": null,
   "id": "b5131e1d",
   "metadata": {},
   "outputs": [
    {
     "name": "stdout",
     "output_type": "stream",
     "text": [
      "List:  [19, 18, 9, 16, 12, 12, 4, 3, 1, 15, 9, 10, 10, 7, 4]\n",
      "Ascending:  [1, 3, 4, 4, 7, 9, 9, 10, 10, 12, 12, 15, 16, 18, 19]\n",
      "descending:  [19, 18, 16, 15, 12, 12, 10, 10, 9, 9, 7, 4, 4, 3, 1]\n",
      "Unique Number:  [1, 3, 4, 7, 9, 10, 12, 15, 16, 18, 19]\n"
     ]
    }
   ],
   "source": [
    "#Create a list of random numbers and sort it in ascending and descending order. Remove the duplicates from the list and print the modified list.\n",
    "\n",
    "import random\n",
    "ran_num=[random.randint(1,20) for i in range(15)]\n",
    "print(\"List: \",ran_num)\n",
    "\n",
    "asc=sorted(ran_num)\n",
    "print(\"Ascending: \",asc)\n",
    "\n",
    "desc=sorted(ran_num,reverse=True)\n",
    "print(\"descending: \",desc)\n",
    "\n",
    "unique=list(set(ran_num))\n",
    "print(\"Unique Number: \",unique)"
   ]
  },
  {
   "cell_type": "code",
   "execution_count": null,
   "id": "b6af09f5",
   "metadata": {},
   "outputs": [
    {
     "name": "stdout",
     "output_type": "stream",
     "text": [
      "matrix: \n",
      "[1, 2, 3]\n",
      "[4, 5, 6]\n",
      "[7, 8, 9]\n",
      "Element: 6\n"
     ]
    }
   ],
   "source": [
    "#Create a nested list representing a 3x3 matrix and print the matrix. Access and print the element at the second row and third column.\n",
    "matrix = [\n",
    "    [1, 2, 3],\n",
    "    [4, 5, 6],\n",
    "    [7, 8, 9]\n",
    "]\n",
    "print(\"matrix: \")\n",
    "for row in matrix:\n",
    "  print(row)\n",
    "\n",
    "element=matrix[1][2]\n",
    "print(\"Element:\",element)"
   ]
  },
  {
   "cell_type": "code",
   "execution_count": null,
   "id": "09b3bc1a",
   "metadata": {},
   "outputs": [
    {
     "name": "stdout",
     "output_type": "stream",
     "text": [
      "sorted_stu: \n",
      "{'name': 'Bob', 'score': 92}\n",
      "{'name': 'David', 'score': 90}\n",
      "{'name': 'Alice', 'score': 85}\n",
      "{'name': 'Charlie', 'score': 78}\n"
     ]
    }
   ],
   "source": [
    "#Create a list of dictionaries where each dictionary represents a student with keys 'name' and 'score'. Sort the list of dictionaries by the 'score' in descending order and print the sorted list.\n",
    "students =[\n",
    "    {'name': 'Alice', 'score': 85},\n",
    "    {'name': 'Bob', 'score': 92},\n",
    "    {'name': 'Charlie', 'score': 78},\n",
    "    {'name': 'David', 'score': 90}\n",
    "  ]\n",
    "sorted_stu=sorted(students, key=lambda x: x['score'], reverse=True)\n",
    "print(\"sorted_stu: \")\n",
    "for student in sorted_stu:\n",
    "  print(student)"
   ]
  },
  {
   "cell_type": "code",
   "execution_count": null,
   "id": "681eb42e",
   "metadata": {},
   "outputs": [
    {
     "name": "stdout",
     "output_type": "stream",
     "text": [
      "Original Matrix:\n",
      "[1, 2, 3]\n",
      "[4, 5, 6]\n",
      "[7, 8, 9]\n",
      "Transposed Matrix:\n",
      "[1, 4, 7]\n",
      "[2, 5, 8]\n",
      "[3, 6, 9]\n"
     ]
    }
   ],
   "source": [
    "#Write a function that takes a 3x3 matrix (nested list) as input and returns its transpose. Print the original and transposed matrices.\n",
    "matrix = [\n",
    "    [1, 2, 3],\n",
    "    [4, 5, 6],\n",
    "    [7, 8, 9]\n",
    "]\n",
    "transposed = [[matrix[j][i] for j in range(3)] for i in range(3)]\n",
    "\n",
    "print(\"Original Matrix:\")\n",
    "for row in matrix:\n",
    "    print(row)\n",
    "\n",
    "print(\"Transposed Matrix:\")\n",
    "for row in transposed:\n",
    "    print(row)"
   ]
  },
  {
   "cell_type": "code",
   "execution_count": null,
   "id": "0ec201ec",
   "metadata": {},
   "outputs": [
    {
     "name": "stdout",
     "output_type": "stream",
     "text": [
      "Orignal list: [[1, 2], [3, 4], [5, 6]]\n",
      "Flattened list:  [1, 2, 3, 4, 5, 6]\n"
     ]
    }
   ],
   "source": [
    "#Write a function that takes a nested list and flattens it into a single list. Print the original and flattened lists.\n",
    "nested_list = [[1, 2], [3, 4], [5, 6]]\n",
    "flattened_list = []\n",
    "for sublist in nested_list:\n",
    "  flattened_list=flattened_list+sublist\n",
    "print(\"Orignal list:\",nested_list)\n",
    "print(\"Flattened list: \",flattened_list)\n"
   ]
  },
  {
   "cell_type": "code",
   "execution_count": null,
   "id": "cb900299",
   "metadata": {},
   "outputs": [
    {
     "name": "stdout",
     "output_type": "stream",
     "text": [
      "[1, 2, 4, 6, 8, 99, 9, 10]\n"
     ]
    }
   ],
   "source": [
    "#Create a list of the first 10 positive integers. Remove the elements at indices 2, 4, and 6, and insert the element '99' at index 5. Print the modified list.\n",
    "num = list(range(1, 11))\n",
    "\n",
    "for i in [6, 4, 2]:\n",
    "    del num[i]\n",
    "\n",
    "num.insert(5,99)\n",
    "print(num)"
   ]
  },
  {
   "cell_type": "code",
   "execution_count": null,
   "id": "e7aa9228",
   "metadata": {},
   "outputs": [
    {
     "name": "stdout",
     "output_type": "stream",
     "text": [
      "[('Alice', 85), ('Bob', 92), ('Charlie', 78)]\n"
     ]
    }
   ],
   "source": [
    "#Create two lists of the same length. Use the zip function to combine these lists into a list of tuples and print the result.\n",
    "name = ['Alice', 'Bob', 'Charlie']\n",
    "score = [85, 92, 78]\n",
    "combine=list(zip(name,score))\n",
    "print(combine)"
   ]
  },
  {
   "cell_type": "code",
   "execution_count": null,
   "id": "a6190efb",
   "metadata": {},
   "outputs": [
    {
     "name": "stdout",
     "output_type": "stream",
     "text": [
      "original list:  [1, 2, 3, 4, 5]\n",
      "reversed list:  [5, 4, 3, 2, 1]\n"
     ]
    }
   ],
   "source": [
    "#Write a function that takes a list and returns a new list with the elements in reverse order. Print the original and reversed lists.\n",
    "org_list=[1,2,3,4,5]\n",
    "reverse=org_list[::-1]\n",
    "print(\"original list: \",org_list)\n",
    "print(\"reversed list: \",reverse)"
   ]
  },
  {
   "cell_type": "code",
   "execution_count": null,
   "id": "e3c16d0d",
   "metadata": {},
   "outputs": [
    {
     "name": "stdout",
     "output_type": "stream",
     "text": [
      "Orignal:  [1, 2, 3, 4, 5]\n",
      "Rotated:  [3, 4, 5, 1, 2]\n"
     ]
    }
   ],
   "source": [
    "#Write a function that rotates a list by n positions. Print the original and rotated lists.\n",
    "num =[1,2,3,4,5]\n",
    "n=2\n",
    "rotated=num[n:]+num[:n]\n",
    "print(\"Orignal: \",num)\n",
    "print(\"Rotated: \",rotated)"
   ]
  },
  {
   "cell_type": "code",
   "execution_count": null,
   "id": "d61aa029",
   "metadata": {},
   "outputs": [
    {
     "name": "stdout",
     "output_type": "stream",
     "text": [
      "[4, 5]\n"
     ]
    }
   ],
   "source": [
    "#Write a function that takes two lists and returns a new list containing only the elements that are present in both lists. Print the intersected list.\n",
    "list1 = [1, 2, 3, 4, 5]\n",
    "list2 = [4, 5, 6, 7, 8]\n",
    "new_list=[item for item in list1 if item in list2]\n",
    "print(new_list)"
   ]
  }
 ],
 "metadata": {
  "kernelspec": {
   "display_name": "Python 3",
   "language": "python",
   "name": "python3"
  },
  "language_info": {
   "codemirror_mode": {
    "name": "ipython",
    "version": 3
   },
   "file_extension": ".py",
   "mimetype": "text/x-python",
   "name": "python",
   "nbconvert_exporter": "python",
   "pygments_lexer": "ipython3",
   "version": "3.12.0"
  }
 },
 "nbformat": 4,
 "nbformat_minor": 5
}
