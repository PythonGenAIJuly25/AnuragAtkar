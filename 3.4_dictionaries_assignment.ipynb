{
 "cells": [
  {
   "cell_type": "markdown",
   "metadata": {},
   "source": [
    "# Module 3: Data Structures Assignments\n",
    "## Lesson 3.4: Dictionaries\n",
    "### Assignment 1: Creating and Accessing Dictionaries\n",
    "\n",
    "Create a dictionary with the first 10 positive integers as keys and their squares as values. Print the dictionary.\n",
    "\n",
    "### Assignment 2: Accessing Dictionary Elements\n",
    "\n",
    "Print the value of the key 5 and the keys of the dictionary created in Assignment 1.\n",
    "\n",
    "### Assignment 3: Dictionary Methods\n",
    "\n",
    "Add a new key-value pair (11, 121) to the dictionary created in Assignment 1 and then remove the key-value pair with key 1. Print the modified dictionary.\n",
    "\n",
    "### Assignment 4: Iterating Over Dictionaries\n",
    "\n",
    "Iterate over the dictionary created in Assignment 1 and print each key-value pair.\n",
    "\n",
    "### Assignment 5: Dictionary Comprehensions\n",
    "\n",
    "Create a new dictionary containing the cubes of the first 10 positive integers using a dictionary comprehension. Print the new dictionary.\n",
    "\n",
    "### Assignment 6: Merging Dictionaries\n",
    "\n",
    "Create two dictionaries: one with keys as the first 5 positive integers and values as their squares, and another with keys as the next 5 positive integers and values as their squares. Merge these dictionaries into a single dictionary and print it.\n",
    "\n",
    "### Assignment 7: Nested Dictionaries\n",
    "\n",
    "Create a nested dictionary representing a student with keys 'name', 'age', 'grades', where 'grades' is another dictionary with keys 'math', 'science', and 'english'. Print the nested dictionary.\n",
    "\n",
    "### Assignment 8: Dictionary of Lists\n",
    "\n",
    "Create a dictionary where the keys are the first 5 positive integers and the values are lists containing the first 5 multiples of the key. Print the dictionary.\n",
    "\n",
    "### Assignment 9: Dictionary of Tuples\n",
    "\n",
    "Create a dictionary where the keys are the first 5 positive integers and the values are tuples containing the key and its square. Print the dictionary.\n",
    "\n",
    "### Assignment 10: Dictionary and List Conversion\n",
    "\n",
    "Create a dictionary with the first 5 positive integers as keys and their squares as values. Convert the dictionary to a list of tuples and print it.\n",
    "\n",
    "### Assignment 11: Dictionary Filtering\n",
    "\n",
    "Create a dictionary with the first 10 positive integers as keys and their squares as values. Create a new dictionary containing only the key-value pairs where the key is even. Print the new dictionary.\n",
    "\n",
    "### Assignment 12: Dictionary Key and Value Transformation\n",
    "\n",
    "Create a dictionary with the first 5 positive integers as keys and their squares as values. Create a new dictionary with keys and values swapped. Print the new dictionary.\n",
    "\n",
    "### Assignment 13: Default Dictionary\n",
    "\n",
    "Create a default dictionary where each key has a default value of an empty list. Add some elements to the lists and print the dictionary.\n",
    "\n",
    "### Assignment 14: Counting with Dictionaries\n",
    "\n",
    "Write a function that takes a string and returns a dictionary with the count of each character in the string. Print the dictionary.\n",
    "\n",
    "### Assignment 15: Dictionary and JSON\n",
    "\n",
    "Create a dictionary representing a book with keys 'title', 'author', 'year', and 'genre'. Convert the dictionary to a JSON string and print it."
   ]
  },
  {
   "cell_type": "code",
   "execution_count": 1,
   "metadata": {},
   "outputs": [
    {
     "name": "stdout",
     "output_type": "stream",
     "text": [
      "{1: 1, 2: 4, 3: 9, 4: 16, 5: 25, 6: 36, 7: 49, 8: 64, 9: 81, 10: 100}\n"
     ]
    }
   ],
   "source": [
    "#Create a dictionary with the first 10 positive integers as keys and their squares as values. Print the dictionary.\n",
    "squares_dict = {i: i**2 for i in range(1, 11)}\n",
    "print(squares_dict)\n",
    "\n"
   ]
  },
  {
   "cell_type": "code",
   "execution_count": 2,
   "id": "c94ff63e",
   "metadata": {},
   "outputs": [
    {
     "name": "stdout",
     "output_type": "stream",
     "text": [
      "Value of key 5: 25\n",
      "Keys of the dictionary: [1, 2, 3, 4, 5, 6, 7, 8, 9, 10]\n"
     ]
    }
   ],
   "source": [
    "#Print the value of the key 5 and the keys of the dictionary created in Assignment 1.\n",
    "squares_dict = {i: i**2 for i in range(1, 11)}\n",
    "print(\"Value of key 5:\", squares_dict[5])\n",
    "print(\"Keys of the dictionary:\", list(squares_dict.keys()))\n"
   ]
  },
  {
   "cell_type": "code",
   "execution_count": 3,
   "id": "caf9bbb9",
   "metadata": {},
   "outputs": [
    {
     "name": "stdout",
     "output_type": "stream",
     "text": [
      "Modified dictionary: {2: 4, 3: 9, 4: 16, 5: 25, 6: 36, 7: 49, 8: 64, 9: 81, 10: 100, 11: 121}\n"
     ]
    }
   ],
   "source": [
    "#Add a new key-value pair (11, 121) to the dictionary created in Assignment 1 and then remove the key-value pair with key 1. Print the modified dictionary.\n",
    "squares_dict = {i: i**2 for i in range(1, 11)}\n",
    "squares_dict[11] = 121\n",
    "squares_dict.pop(1)\n",
    "print(\"Modified dictionary:\", squares_dict)\n"
   ]
  },
  {
   "cell_type": "code",
   "execution_count": 4,
   "id": "c19d1c46",
   "metadata": {},
   "outputs": [
    {
     "name": "stdout",
     "output_type": "stream",
     "text": [
      "Key: 1, Value: 1\n",
      "Key: 2, Value: 4\n",
      "Key: 3, Value: 9\n",
      "Key: 4, Value: 16\n",
      "Key: 5, Value: 25\n",
      "Key: 6, Value: 36\n",
      "Key: 7, Value: 49\n",
      "Key: 8, Value: 64\n",
      "Key: 9, Value: 81\n",
      "Key: 10, Value: 100\n"
     ]
    }
   ],
   "source": [
    "#Iterate over the dictionary created in Assignment 1 and print each key-value pair.\n",
    "square={i:i**2 for i in range(1,11)}\n",
    "for key,value in square.items():\n",
    "    print(f\"Key: {key}, Value: {value}\")\n"
   ]
  },
  {
   "cell_type": "code",
   "execution_count": 5,
   "id": "5ae6bd18",
   "metadata": {},
   "outputs": [
    {
     "name": "stdout",
     "output_type": "stream",
     "text": [
      "{1: 1, 2: 8, 3: 27, 4: 64, 5: 125, 6: 216, 7: 343, 8: 512, 9: 729, 10: 1000}\n"
     ]
    }
   ],
   "source": [
    "#Create a new dictionary containing the cubes of the first 10 positive integers using a dictionary comprehension. Print the new dictionary.\n",
    "cubes_dict = {i: i**3 for i in range(1, 11)}\n",
    "print(cubes_dict)\n"
   ]
  },
  {
   "cell_type": "code",
   "execution_count": 6,
   "id": "52885e16",
   "metadata": {},
   "outputs": [
    {
     "name": "stdout",
     "output_type": "stream",
     "text": [
      "Merged dictionary: {1: 1, 2: 4, 3: 9, 4: 16, 5: 25, 6: 36, 7: 49, 8: 64, 9: 81, 10: 100}\n"
     ]
    }
   ],
   "source": [
    "#Create two dictionaries: one with keys as the first 5 positive integers and values as their squares, and another with keys as the next 5 positive integers and values as their squares. Merge these dictionaries into a single dictionary and print it.\n",
    "dict1 = {i: i**2 for i in range(1, 6)}\n",
    "dict2 = {i: i**2 for i in range(6, 11)}\n",
    "merged_dict = {**dict1, **dict2}\n",
    "print(\"Merged dictionary:\", merged_dict)\n"
   ]
  },
  {
   "cell_type": "code",
   "execution_count": 7,
   "id": "7d8eee9a",
   "metadata": {},
   "outputs": [
    {
     "name": "stdout",
     "output_type": "stream",
     "text": [
      "Student Dictionary: {'name': 'Anurag', 'age': 20, 'grades': {'math': 88, 'science': 92, 'english': 85}}\n"
     ]
    }
   ],
   "source": [
    "#Create a nested dictionary representing a student with keys 'name', 'age', 'grades', where 'grades' is another dictionary with keys 'math', 'science', and 'english'. Print the nested dictionary.\n",
    "student = {\n",
    "    'name': 'Anurag',\n",
    "    'age': 20,\n",
    "    'grades': {\n",
    "        'math': 88,\n",
    "        'science': 92,\n",
    "        'english': 85\n",
    "    }\n",
    "}\n",
    "\n",
    "\n",
    "print(\"Student Dictionary:\", student)"
   ]
  },
  {
   "cell_type": "code",
   "execution_count": 8,
   "id": "faf4aab1",
   "metadata": {},
   "outputs": [
    {
     "name": "stdout",
     "output_type": "stream",
     "text": [
      "Dictionary of multiples: {1: [1, 2, 3, 4, 5], 2: [2, 4, 6, 8, 10], 3: [3, 6, 9, 12, 15], 4: [4, 8, 12, 16, 20], 5: [5, 10, 15, 20, 25]}\n"
     ]
    }
   ],
   "source": [
    "#Create a dictionary where the keys are the first 5 positive integers and the values are lists containing the first 5 multiples of the key. Print the dictionary.\n",
    "multiples_dict = {i: [i * j for j in range(1, 6)] for i in range(1, 6)}\n",
    "\n",
    "print(\"Dictionary of multiples:\", multiples_dict)"
   ]
  },
  {
   "cell_type": "code",
   "execution_count": 9,
   "id": "f50edd34",
   "metadata": {},
   "outputs": [
    {
     "name": "stdout",
     "output_type": "stream",
     "text": [
      "Dictionary with tuples: {1: (1, 1), 2: (2, 4), 3: (3, 9), 4: (4, 16), 5: (5, 25)}\n"
     ]
    }
   ],
   "source": [
    "#Create a dictionary where the keys are the first 5 positive integers and the values are tuples containing the key and its square. Print the dictionary.\n",
    "tuple_dict = {i: (i, i**2) for i in range(1, 6)}\n",
    "\n",
    "print(\"Dictionary with tuples:\", tuple_dict)"
   ]
  },
  {
   "cell_type": "code",
   "execution_count": 10,
   "id": "8e92dca8",
   "metadata": {},
   "outputs": [
    {
     "name": "stdout",
     "output_type": "stream",
     "text": [
      "List of tuples: [(1, 1), (2, 4), (3, 9), (4, 16), (5, 25)]\n"
     ]
    }
   ],
   "source": [
    "#Create a dictionary with the first 5 positive integers as keys and their squares as values. Convert the dictionary to a list of tuples and print it.\n",
    "square_dict = {i: i**2 for i in range(1, 6)}\n",
    "\n",
    "tuple_list = list(square_dict.items())\n",
    "\n",
    "print(\"List of tuples:\", tuple_list)"
   ]
  },
  {
   "cell_type": "code",
   "execution_count": 11,
   "id": "24a76626",
   "metadata": {},
   "outputs": [
    {
     "name": "stdout",
     "output_type": "stream",
     "text": [
      "Dictionary with even keys: {2: 4, 4: 16, 6: 36, 8: 64, 10: 100}\n"
     ]
    }
   ],
   "source": [
    "#Create a dictionary with the first 10 positive integers as keys and their squares as values. Create a new dictionary containing only the key-value pairs where the key is even. Print the new dictionary.\n",
    "squares_dict = {i: i**2 for i in range(1, 11)}\n",
    "\n",
    "even_squares_dict = {k: v for k, v in squares_dict.items() if k % 2 == 0}\n",
    "\n",
    "print(\"Dictionary with even keys:\", even_squares_dict)"
   ]
  },
  {
   "cell_type": "code",
   "execution_count": 12,
   "id": "0a27d5ab",
   "metadata": {},
   "outputs": [
    {
     "name": "stdout",
     "output_type": "stream",
     "text": [
      "Swapped dictionary: {1: 1, 4: 2, 9: 3, 16: 4, 25: 5}\n"
     ]
    }
   ],
   "source": [
    "#Create a dictionary with the first 5 positive integers as keys and their squares as values. Create a new dictionary with keys and values swapped. Print the new dictionary.\n",
    "square_dict = {i: i**2 for i in range(1, 6)}\n",
    "\n",
    "swapped_dict = {v: k for k, v in square_dict.items()}\n",
    "\n",
    "print(\"Swapped dictionary:\", swapped_dict)"
   ]
  },
  {
   "cell_type": "code",
   "execution_count": 1,
   "id": "579e2b75",
   "metadata": {},
   "outputs": [
    {
     "name": "stdout",
     "output_type": "stream",
     "text": [
      "{'fruits': ['apple', 'banana'], 'vegetables': ['carrot', 'spinach'], 'grains': ['rice']}\n"
     ]
    }
   ],
   "source": [
    "#Create a default dictionary where each key has a default value of an empty list. Add some elements to the lists and print the dictionary.\n",
    "from collections import defaultdict\n",
    "my_dict = defaultdict(list)\n",
    "\n",
    "my_dict['fruits'].append('apple')\n",
    "my_dict['fruits'].append('banana')\n",
    "my_dict['vegetables'].append('carrot')\n",
    "my_dict['vegetables'].append('spinach')\n",
    "my_dict['grains'].append('rice')\n",
    "\n",
    "print(dict(my_dict))"
   ]
  },
  {
   "cell_type": "code",
   "execution_count": 2,
   "id": "9844aff9",
   "metadata": {},
   "outputs": [
    {
     "name": "stdout",
     "output_type": "stream",
     "text": [
      "{'h': 1, 'e': 1, 'l': 3, 'o': 2, ' ': 1, 'w': 1, 'r': 1, 'd': 1}\n"
     ]
    }
   ],
   "source": [
    "#Write a function that takes a string and returns a dictionary with the count of each character in the string. Print the dictionary.\n",
    "\n",
    "def count_characters(s):\n",
    "    char_count = {}\n",
    "    for char in s:\n",
    "        if char in char_count:\n",
    "            char_count[char] += 1\n",
    "        else:\n",
    "            char_count[char] = 1\n",
    "    return char_count\n",
    "\n",
    "input_string = \"hello world\"\n",
    "result = count_characters(input_string)\n",
    "print(result)"
   ]
  },
  {
   "cell_type": "code",
   "execution_count": 3,
   "id": "e84eec60",
   "metadata": {},
   "outputs": [
    {
     "name": "stdout",
     "output_type": "stream",
     "text": [
      "{\"title\": \"To Kill a Mockingbird\", \"author\": \"Harper Lee\", \"year\": 1960, \"genre\": \"Fiction\"}\n"
     ]
    }
   ],
   "source": [
    "#Create a dictionary representing a book with keys 'title', 'author', 'year', and 'genre'. Convert the dictionary to a JSON string and print it.\n",
    "import json\n",
    "\n",
    "book = {\n",
    "    \"title\": \"To Kill a Mockingbird\",\n",
    "    \"author\": \"Harper Lee\",\n",
    "    \"year\": 1960,\n",
    "    \"genre\": \"Fiction\"\n",
    "}\n",
    "\n",
    "book_json = json.dumps(book)\n",
    "\n",
    "print(book_json)\n"
   ]
  }
 ],
 "metadata": {
  "kernelspec": {
   "display_name": "Python 3",
   "language": "python",
   "name": "python3"
  },
  "language_info": {
   "codemirror_mode": {
    "name": "ipython",
    "version": 3
   },
   "file_extension": ".py",
   "mimetype": "text/x-python",
   "name": "python",
   "nbconvert_exporter": "python",
   "pygments_lexer": "ipython3",
   "version": "3.12.0"
  }
 },
 "nbformat": 4,
 "nbformat_minor": 5
}
